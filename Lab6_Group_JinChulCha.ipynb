{
 "cells": [
  {
   "cell_type": "code",
   "execution_count": 7,
   "metadata": {},
   "outputs": [
    {
     "name": "stdin",
     "output_type": "stream",
     "text": [
      "Please enter the total amount money (in toys, food, vet, etc) you spent on your pet,   1000\n",
      "Please guess how many minutes you spent in a vet office  1000\n"
     ]
    },
    {
     "name": "stdout",
     "output_type": "stream",
     "text": [
      "Your pet costed you  1.4285714285714286  roomba(s) with much money\n",
      "A roomba could have clean your room  33.333333333333336  times\n"
     ]
    }
   ],
   "source": [
    "roombaCost = 700\n",
    "roombaTime = 30\n",
    "\n",
    "roombaAltCost = 0\n",
    "roombaAltTime = 0\n",
    "\n",
    "entryC = input(\"Please enter the total amount money (in toys, food, vet, etc) you spent on your pet,  \")\n",
    "entryT = input(\"Please guess how many minutes you spent in a vet office \")\n",
    "\n",
    "int_inputCost = int(entryC)\n",
    "int_inputTime = int(entryT)\n",
    "        \n",
    "roombaAltCost = int_inputCost/700\n",
    "roombaAltTime = int_inputTime/30\n",
    "        \n",
    "print(\"Your pet costed you \",roombaAltCost, \" roomba(s) with much money\")\n",
    "print(\"A roomba could have cleaned your room \", roombaAltTime , \" times\")\n",
    "        \n",
    "\n",
    "        \n",
    "        \n"
   ]
  },
  {
   "cell_type": "code",
   "execution_count": null,
   "metadata": {},
   "outputs": [],
   "source": []
  }
 ],
 "metadata": {
  "kernelspec": {
   "display_name": "Python 3",
   "language": "python",
   "name": "python3"
  },
  "language_info": {
   "codemirror_mode": {
    "name": "ipython",
    "version": 3
   },
   "file_extension": ".py",
   "mimetype": "text/x-python",
   "name": "python",
   "nbconvert_exporter": "python",
   "pygments_lexer": "ipython3",
   "version": "3.8.3"
  }
 },
 "nbformat": 4,
 "nbformat_minor": 4
}
